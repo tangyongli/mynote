{
 "cells": [
  {
   "attachments": {},
   "cell_type": "markdown",
   "metadata": {},
   "source": [
    "# check the length of generator,you should covert it to a list or use loop to count\n",
    "# one generator. assume length 300,every element inside, has one pair. you can understand as image and label in deep learning easily."
   ]
  },
  {
   "cell_type": "code",
   "execution_count": 4,
   "metadata": {},
   "outputs": [
    {
     "name": "stdout",
     "output_type": "stream",
     "text": [
      "Sample 1:\n",
      "Data shape: (32, 256, 256, 8), Label shape: (32, 256, 256, 2)\n",
      "Sample 2:\n",
      "Data shape: (32, 256, 256, 8), Label shape: (32, 256, 256, 2)\n",
      "Sample 3:\n",
      "Data shape: (32, 256, 256, 8), Label shape: (32, 256, 256, 2)\n"
     ]
    }
   ],
   "source": [
    "import random\n",
    "import numpy as np\n",
    "\n",
    "def data_label_generator(batch_size=32, num_samples=300, data_shape=(32, 256, 256, 8), label_shape=(32, 256, 256, 2)):\n",
    "    for _ in range(num_samples):\n",
    "        # np.random.rand() Create an array of the given shape and populate it with random samples from a uniform distribution over [0, 1)\n",
    "        data = np.random.rand(*data_shape).astype(np.float32)\n",
    "        label = np.random.rand(*label_shape).astype(np.uint16)\n",
    "        yield data, label\n",
    "\n",
    "# Example usage\n",
    "generator = data_label_generator()\n",
    "\n",
    "for i, (data, label) in enumerate(generator):\n",
    "    print(f\"Sample {i + 1}:\")\n",
    "    print(f\"Data shape: {data.shape}, Label shape: {label.shape}\")\n",
    "    \n",
    "    # You can perform further processing or use the data and label as needed\n",
    "    if i == 2:  # For demonstration, stop after 3 samples\n",
    "        break\n"
   ]
  },
  {
   "cell_type": "code",
   "execution_count": null,
   "metadata": {},
   "outputs": [],
   "source": [
    "len(list(generator)) # 在生成生成器，如果将其转换为列表，那么生成器会耗尽。之后再迭代输出生成器，或者进行model.fit(generator)会失败"
   ]
  },
  {
   "cell_type": "code",
   "execution_count": null,
   "metadata": {},
   "outputs": [],
   "source": [
    "\n",
    "# this for loop will print all the element in generator\n",
    "for batch in generator:\n",
    "    print(batch[0].shape,batch[1].shape) # image (32,256,256,3)  label (32,256,256,2)\n",
    "# just check some \n",
    "for i in range(10):\n",
    "    generator.__next__()[0].shape, generator.__next__()[1].shape\n",
    "\n",
    "    "
   ]
  },
  {
   "cell_type": "code",
   "execution_count": null,
   "metadata": {},
   "outputs": [],
   "source": [
    "random.seed(40)\n",
    "random.shuffle(file)"
   ]
  }
 ],
 "metadata": {
  "kernelspec": {
   "display_name": "Python 3",
   "language": "python",
   "name": "python3"
  },
  "language_info": {
   "codemirror_mode": {
    "name": "ipython",
    "version": 3
   },
   "file_extension": ".py",
   "mimetype": "text/x-python",
   "name": "python",
   "nbconvert_exporter": "python",
   "pygments_lexer": "ipython3",
   "version": "3.10.10"
  },
  "orig_nbformat": 4
 },
 "nbformat": 4,
 "nbformat_minor": 2
}
