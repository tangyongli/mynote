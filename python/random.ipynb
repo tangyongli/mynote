{
 "cells": [
  {
   "cell_type": "code",
   "execution_count": null,
   "metadata": {},
   "outputs": [],
   "source": [
    "random.seed(42)"
   ]
  }
 ],
 "metadata": {
  "language_info": {
   "name": "python"
  },
  "orig_nbformat": 4
 },
 "nbformat": 4,
 "nbformat_minor": 2
}
#生成一个0到9之间的随机整数
random_int = random.randint(0, 9)
# 创建形状为(1000, 1)的取值0-10的随机整数数组
array1 = np.random.randint(0, 11, size=(1000, 1))
# 创建形状为(1000, 1)的随机小数数组
array1 = np.random.rand(1000, 1)
# 生成一个0到1之间的随机浮点数
random_float = random.random()
print("Random Float:", random_float)
# 打乱列表中的元素顺序
random.shuffle(my_list)
print("Shuffled List:", my_list)



